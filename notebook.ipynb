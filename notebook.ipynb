{
 "cells": [
  {
   "cell_type": "markdown",
   "id": "d3d001b0-2e2f-4b58-8442-99520bad831f",
   "metadata": {},
   "source": [
    "# Sowing Success: How Machine Learning Helps Farmers Select the Best Crops\n",
    "\n",
    "![Farmer in a field](farmer_in_a_field.jpg)\n",
    "\n",
    "Measuring essential soil metrics such as nitrogen, phosphorous, potassium levels, and pH value is an important aspect of assessing soil condition. However, it can be an expensive and time-consuming process, which can cause farmers to prioritize which metrics to measure based on their budget constraints.\n",
    "\n",
    "Farmers have various options when it comes to deciding which crop to plant each season. Their primary objective is to maximize the yield of their crops, taking into account different factors. One crucial factor that affects crop growth is the condition of the soil in the field, which can be assessed by measuring basic elements such as nitrogen and potassium levels. Each crop has an ideal soil condition that ensures optimal growth and maximum yield.\n",
    "\n",
    "A farmer reached out to you as a machine learning expert for assistance in selecting the best crop for his field. They've provided you with a dataset called `soil_measures.csv`, which contains:\n",
    "\n",
    "- `\"N\"`: Nitrogen content ratio in the soil\n",
    "- `\"P\"`: Phosphorous content ratio in the soil\n",
    "- `\"K\"`: Potassium content ratio in the soil\n",
    "- `\"pH\"` value of the soil\n",
    "- `\"crop\"`: categorical values that contain various crops (target variable).\n",
    "\n",
    "Each row in this dataset represents various measures of the soil in a particular field. Based on these measurements, the crop specified in the `\"crop\"` column is the optimal choice for that field.  \n",
    "\n",
    "In this project, you will build multi-class classification models to predict the type of `\"crop\"` and identify the single most importance feature for predictive performance."
   ]
  },
  {
   "cell_type": "code",
   "execution_count": 1,
   "id": "d0eb4f16-5a99-460d-a5ba-706b7ef0bbe7",
   "metadata": {
    "executionCancelledAt": null,
    "executionTime": 14,
    "id": "bA5ajAmk7XH6",
    "lastExecutedAt": 1707317470036,
    "lastScheduledRunId": null,
    "lastSuccessfullyExecutedCode": "# All required libraries are imported here for you.\nimport pandas as pd\nfrom sklearn.linear_model import LogisticRegression\nfrom sklearn.ensemble import RandomForestClassifier\nfrom sklearn.model_selection import train_test_split\nfrom sklearn import metrics\n\n# Load the dataset\ncrops = pd.read_csv(\"soil_measures.csv\")\n\n# Write your code here"
   },
   "outputs": [],
   "source": [
    "# All required libraries are imported here for you.\n",
    "import pandas as pd\n",
    "from sklearn.linear_model import LogisticRegression\n",
    "from sklearn.model_selection import train_test_split, cross_val_score, KFold\n",
    "from sklearn import metrics\n",
    "\n",
    "import matplotlib.pyplot as plt\n",
    "import seaborn as sns\n",
    "import numpy as np\n",
    "\n",
    "# Load the dataset\n",
    "crops = pd.read_csv(\"soil_measures.csv\")"
   ]
  },
  {
   "cell_type": "markdown",
   "id": "2ea518a2-94ab-41ac-8591-74f03853baea",
   "metadata": {},
   "source": [
    "## Exploring the Dataset\n",
    "\n",
    "Before diving into model building, it's important to take a first look at the dataset. The code below displays the first few rows of the `soil_measures.csv` file to understand the structure of the data.\n",
    "\n",
    "This initial exploration allows us to confirm the presence of expected features: nitrogen (`N`), phosphorous (`P`), potassium (`K`), pH level, and the target variable `crop`, which indicates the most suitable crop for a given soil composition.\n"
   ]
  },
  {
   "cell_type": "code",
   "execution_count": 2,
   "id": "99b9eb02-af90-4149-b464-30be65fd4c6a",
   "metadata": {},
   "outputs": [
    {
     "data": {
      "text/html": [
       "<div>\n",
       "<style scoped>\n",
       "    .dataframe tbody tr th:only-of-type {\n",
       "        vertical-align: middle;\n",
       "    }\n",
       "\n",
       "    .dataframe tbody tr th {\n",
       "        vertical-align: top;\n",
       "    }\n",
       "\n",
       "    .dataframe thead th {\n",
       "        text-align: right;\n",
       "    }\n",
       "</style>\n",
       "<table border=\"1\" class=\"dataframe\">\n",
       "  <thead>\n",
       "    <tr style=\"text-align: right;\">\n",
       "      <th></th>\n",
       "      <th>N</th>\n",
       "      <th>P</th>\n",
       "      <th>K</th>\n",
       "      <th>ph</th>\n",
       "      <th>crop</th>\n",
       "    </tr>\n",
       "  </thead>\n",
       "  <tbody>\n",
       "    <tr>\n",
       "      <th>0</th>\n",
       "      <td>90</td>\n",
       "      <td>42</td>\n",
       "      <td>43</td>\n",
       "      <td>6.502985</td>\n",
       "      <td>rice</td>\n",
       "    </tr>\n",
       "    <tr>\n",
       "      <th>1</th>\n",
       "      <td>85</td>\n",
       "      <td>58</td>\n",
       "      <td>41</td>\n",
       "      <td>7.038096</td>\n",
       "      <td>rice</td>\n",
       "    </tr>\n",
       "    <tr>\n",
       "      <th>2</th>\n",
       "      <td>60</td>\n",
       "      <td>55</td>\n",
       "      <td>44</td>\n",
       "      <td>7.840207</td>\n",
       "      <td>rice</td>\n",
       "    </tr>\n",
       "    <tr>\n",
       "      <th>3</th>\n",
       "      <td>74</td>\n",
       "      <td>35</td>\n",
       "      <td>40</td>\n",
       "      <td>6.980401</td>\n",
       "      <td>rice</td>\n",
       "    </tr>\n",
       "    <tr>\n",
       "      <th>4</th>\n",
       "      <td>78</td>\n",
       "      <td>42</td>\n",
       "      <td>42</td>\n",
       "      <td>7.628473</td>\n",
       "      <td>rice</td>\n",
       "    </tr>\n",
       "  </tbody>\n",
       "</table>\n",
       "</div>"
      ],
      "text/plain": [
       "    N   P   K        ph  crop\n",
       "0  90  42  43  6.502985  rice\n",
       "1  85  58  41  7.038096  rice\n",
       "2  60  55  44  7.840207  rice\n",
       "3  74  35  40  6.980401  rice\n",
       "4  78  42  42  7.628473  rice"
      ]
     },
     "execution_count": 2,
     "metadata": {},
     "output_type": "execute_result"
    }
   ],
   "source": [
    "crops.head()"
   ]
  },
  {
   "cell_type": "markdown",
   "id": "39695be8-36fc-46f2-bd17-b0395b4cea1a",
   "metadata": {},
   "source": [
    "The number of unique values in the `crop` column will first be counted using the `nunique()` method. If the result is reasonable, the frequency of each value will be calculated. This will provide both the list of crop types and how often each one appears in the dataset."
   ]
  },
  {
   "cell_type": "code",
   "execution_count": 3,
   "id": "c65a72f2-4a34-4918-a70c-9fb17434d94e",
   "metadata": {},
   "outputs": [
    {
     "name": "stdout",
     "output_type": "stream",
     "text": [
      "22\n"
     ]
    }
   ],
   "source": [
    "print(crops['crop'].nunique())"
   ]
  },
  {
   "cell_type": "code",
   "execution_count": 4,
   "id": "5f3b7dc9-38ba-401d-bf64-d0bb78cbc1bf",
   "metadata": {},
   "outputs": [
    {
     "data": {
      "text/plain": [
       "crop\n",
       "apple          100\n",
       "banana         100\n",
       "blackgram      100\n",
       "chickpea       100\n",
       "coconut        100\n",
       "coffee         100\n",
       "cotton         100\n",
       "grapes         100\n",
       "jute           100\n",
       "kidneybeans    100\n",
       "lentil         100\n",
       "maize          100\n",
       "mango          100\n",
       "mothbeans      100\n",
       "mungbean       100\n",
       "muskmelon      100\n",
       "orange         100\n",
       "papaya         100\n",
       "pigeonpeas     100\n",
       "pomegranate    100\n",
       "rice           100\n",
       "watermelon     100\n",
       "Name: count, dtype: int64"
      ]
     },
     "execution_count": 4,
     "metadata": {},
     "output_type": "execute_result"
    }
   ],
   "source": [
    "crops['crop'].value_counts().sort_index()"
   ]
  },
  {
   "cell_type": "markdown",
   "id": "8c316dcb-1fc6-4a38-b2ff-6a644cac47de",
   "metadata": {},
   "source": [
    "The dataset contains 2,200 rows, with **22 unique** crops. Each crop type appears exactly 100 times. This balanced distribution ensures that all crop classes are equally represented, which is beneficial for training a fair and unbiased classification model. \n",
    "    \n",
    "The list also shows there are **no duplicated values**."
   ]
  },
  {
   "cell_type": "code",
   "execution_count": 5,
   "id": "b2212a41-1ed3-447f-92fe-b0ba99991ed9",
   "metadata": {},
   "outputs": [
    {
     "name": "stdout",
     "output_type": "stream",
     "text": [
      "<class 'pandas.core.frame.DataFrame'>\n",
      "RangeIndex: 2200 entries, 0 to 2199\n",
      "Data columns (total 5 columns):\n",
      " #   Column  Non-Null Count  Dtype  \n",
      "---  ------  --------------  -----  \n",
      " 0   N       2200 non-null   int64  \n",
      " 1   P       2200 non-null   int64  \n",
      " 2   K       2200 non-null   int64  \n",
      " 3   ph      2200 non-null   float64\n",
      " 4   crop    2200 non-null   object \n",
      "dtypes: float64(1), int64(3), object(1)\n",
      "memory usage: 86.1+ KB\n"
     ]
    }
   ],
   "source": [
    "crops.info()"
   ]
  },
  {
   "cell_type": "markdown",
   "id": "93630740-bdbf-45ee-b612-252d9efb31c6",
   "metadata": {},
   "source": [
    "All 2,200 entries are complete with **no missing values** across any of the five columns. This confirms the dataset is clean and ready for analysis, with consistent data types and no need for imputation or structural adjustments.\n"
   ]
  },
  {
   "cell_type": "code",
   "execution_count": 6,
   "id": "f675317e-d28e-4142-b62d-e2a9e1120416",
   "metadata": {},
   "outputs": [
    {
     "data": {
      "text/html": [
       "<div>\n",
       "<style scoped>\n",
       "    .dataframe tbody tr th:only-of-type {\n",
       "        vertical-align: middle;\n",
       "    }\n",
       "\n",
       "    .dataframe tbody tr th {\n",
       "        vertical-align: top;\n",
       "    }\n",
       "\n",
       "    .dataframe thead th {\n",
       "        text-align: right;\n",
       "    }\n",
       "</style>\n",
       "<table border=\"1\" class=\"dataframe\">\n",
       "  <thead>\n",
       "    <tr style=\"text-align: right;\">\n",
       "      <th></th>\n",
       "      <th>N</th>\n",
       "      <th>P</th>\n",
       "      <th>K</th>\n",
       "      <th>ph</th>\n",
       "    </tr>\n",
       "  </thead>\n",
       "  <tbody>\n",
       "    <tr>\n",
       "      <th>count</th>\n",
       "      <td>2200.000000</td>\n",
       "      <td>2200.000000</td>\n",
       "      <td>2200.000000</td>\n",
       "      <td>2200.000000</td>\n",
       "    </tr>\n",
       "    <tr>\n",
       "      <th>mean</th>\n",
       "      <td>50.551818</td>\n",
       "      <td>53.362727</td>\n",
       "      <td>48.149091</td>\n",
       "      <td>6.469480</td>\n",
       "    </tr>\n",
       "    <tr>\n",
       "      <th>std</th>\n",
       "      <td>36.917334</td>\n",
       "      <td>32.985883</td>\n",
       "      <td>50.647931</td>\n",
       "      <td>0.773938</td>\n",
       "    </tr>\n",
       "    <tr>\n",
       "      <th>min</th>\n",
       "      <td>0.000000</td>\n",
       "      <td>5.000000</td>\n",
       "      <td>5.000000</td>\n",
       "      <td>3.504752</td>\n",
       "    </tr>\n",
       "    <tr>\n",
       "      <th>25%</th>\n",
       "      <td>21.000000</td>\n",
       "      <td>28.000000</td>\n",
       "      <td>20.000000</td>\n",
       "      <td>5.971693</td>\n",
       "    </tr>\n",
       "    <tr>\n",
       "      <th>50%</th>\n",
       "      <td>37.000000</td>\n",
       "      <td>51.000000</td>\n",
       "      <td>32.000000</td>\n",
       "      <td>6.425045</td>\n",
       "    </tr>\n",
       "    <tr>\n",
       "      <th>75%</th>\n",
       "      <td>84.250000</td>\n",
       "      <td>68.000000</td>\n",
       "      <td>49.000000</td>\n",
       "      <td>6.923643</td>\n",
       "    </tr>\n",
       "    <tr>\n",
       "      <th>max</th>\n",
       "      <td>140.000000</td>\n",
       "      <td>145.000000</td>\n",
       "      <td>205.000000</td>\n",
       "      <td>9.935091</td>\n",
       "    </tr>\n",
       "  </tbody>\n",
       "</table>\n",
       "</div>"
      ],
      "text/plain": [
       "                 N            P            K           ph\n",
       "count  2200.000000  2200.000000  2200.000000  2200.000000\n",
       "mean     50.551818    53.362727    48.149091     6.469480\n",
       "std      36.917334    32.985883    50.647931     0.773938\n",
       "min       0.000000     5.000000     5.000000     3.504752\n",
       "25%      21.000000    28.000000    20.000000     5.971693\n",
       "50%      37.000000    51.000000    32.000000     6.425045\n",
       "75%      84.250000    68.000000    49.000000     6.923643\n",
       "max     140.000000   145.000000   205.000000     9.935091"
      ]
     },
     "execution_count": 6,
     "metadata": {},
     "output_type": "execute_result"
    }
   ],
   "source": [
    "crops.describe()"
   ]
  },
  {
   "cell_type": "markdown",
   "id": "b396ca45-850e-4913-a64c-b597f6e21dc6",
   "metadata": {},
   "source": [
    "### Summary Statistics of Soil Features\n",
    "\n",
    "The descriptive statistics give an overview of the soil characteristics across the dataset:\n",
    "\n",
    "- **Nutrient levels (N, P, K)** show wide variability, especially potassium (K), which ranges from 5 to 205. This suggests diverse soil fertility across samples.\n",
    "- **pH values** range from 3.5 to nearly 10, with a mean around 6.47 — slightly acidic to neutral, which is typical for a wide range of crops.\n",
    "- The relatively large standard deviations, especially for potassium and nitrogen, indicate significant variation, which is useful for training a model to distinguish between different crop preferences.\n"
   ]
  },
  {
   "cell_type": "markdown",
   "id": "58beca35-e3a9-4532-a3fb-e2c27f98f395",
   "metadata": {},
   "source": [
    "## Preparing the Data for Modeling\n",
    "\n",
    "Before training the model, the dataset must be prepared for machine learning. Key preprocessing steps include:\n",
    "\n",
    "- **Reducing memory usage** by converting the categorical `crop` column to a more efficient data type.\n",
    "- **Encoding the target variable** so it can be used in classification models.\n",
    "- **Scaling numerical features** to ensure consistency across different ranges of values.\n",
    "\n",
    "These steps help improve both model performance and computational efficiency.\n"
   ]
  },
  {
   "cell_type": "markdown",
   "id": "5592820c-7f1d-42b8-af30-2bc40f409213",
   "metadata": {},
   "source": [
    "### Optimising memory usage\n",
    "\n",
    "Converting the `crop` column from object to category type resulted in a substantial reduction in memory usage. This is an effective preprocessing step when working with repeated string values, especially in larger datasets where efficiency matters.\n"
   ]
  },
  {
   "cell_type": "code",
   "execution_count": 7,
   "id": "1388049c-958e-4b5d-83eb-b4f874d23f2b",
   "metadata": {},
   "outputs": [
    {
     "name": "stdout",
     "output_type": "stream",
     "text": [
      "memory usage with \"object\" type: 189.5 kB\n",
      "memory usage with \"category\" type: 72.8 kB\n"
     ]
    }
   ],
   "source": [
    "memory_used_obj = crops.memory_usage(deep=True).sum() / 1024  # in kB\n",
    "crops['crop'] = crops['crop'].astype('category')\n",
    "memory_used_cat = crops.memory_usage(deep=True).sum() / 1024  # in kB\n",
    "print(f'memory usage with \"object\" type: {memory_used_obj.round(1)} kB')\n",
    "print(f'memory usage with \"category\" type: {memory_used_cat.round(1)} kB')\n"
   ]
  },
  {
   "cell_type": "markdown",
   "id": "e3d1e336-e5a8-4897-9297-b9e8f8eb9c0e",
   "metadata": {},
   "source": [
    "### Creating Dummy Variables for Crops\n",
    "\n",
    "The crop labels will be converted into dummy variables to prepare them for modeling. This transformation will result in a binary column for each crop type, enabling straightforward comparison and classification.\n"
   ]
  },
  {
   "cell_type": "code",
   "execution_count": 8,
   "id": "f8ab6d27-65f2-4597-8ae9-a2f9869fe489",
   "metadata": {},
   "outputs": [
    {
     "name": "stdout",
     "output_type": "stream",
     "text": [
      "      banana  blackgram  chickpea  coconut  coffee  cotton  grapes  jute  \\\n",
      "1949       0          0         0        0       0       1       0     0   \n",
      "2119       0          0         0        0       1       0       0     0   \n",
      "886        0          0         0        0       0       0       0     0   \n",
      "1619       0          0         0        0       0       0       0     0   \n",
      "1649       0          0         0        0       0       0       0     0   \n",
      "\n",
      "      kidneybeans  lentil  ...  mango  mothbeans  mungbean  muskmelon  orange  \\\n",
      "1949            0       0  ...      0          0         0          0       0   \n",
      "2119            0       0  ...      0          0         0          0       0   \n",
      "886             0       1  ...      0          0         0          0       0   \n",
      "1619            0       0  ...      0          0         0          0       1   \n",
      "1649            0       0  ...      0          0         0          0       1   \n",
      "\n",
      "      papaya  pigeonpeas  pomegranate  rice  watermelon  \n",
      "1949       0           0            0     0           0  \n",
      "2119       0           0            0     0           0  \n",
      "886        0           0            0     0           0  \n",
      "1619       0           0            0     0           0  \n",
      "1649       0           0            0     0           0  \n",
      "\n",
      "[5 rows x 21 columns]\n"
     ]
    }
   ],
   "source": [
    "crops_dummies = pd.get_dummies(crops['crop'], drop_first=True, dtype='uint8')\n",
    "print(crops_dummies.sample(5))"
   ]
  },
  {
   "cell_type": "markdown",
   "id": "62abe23a-417a-46e7-9c84-d4aed1b4665d",
   "metadata": {},
   "source": [
    "## Separating Features and Target\n",
    "\n",
    "The dataset will now be split into input features and the target variable. The feature matrix will contain the soil measurements, while the target array will store the corresponding crop labels.\n"
   ]
  },
  {
   "cell_type": "code",
   "execution_count": 26,
   "id": "95aa3b56-d881-478b-8b29-df55a1e7f6d4",
   "metadata": {},
   "outputs": [],
   "source": [
    "X = crops.drop('crop', axis=1) # 'values' is used to get only the numpy array.\n",
    "y = crops['crop'].values"
   ]
  },
  {
   "cell_type": "code",
   "execution_count": 27,
   "id": "da601b08-ea37-4446-97e0-48bb21627981",
   "metadata": {},
   "outputs": [
    {
     "data": {
      "text/html": [
       "<div>\n",
       "<style scoped>\n",
       "    .dataframe tbody tr th:only-of-type {\n",
       "        vertical-align: middle;\n",
       "    }\n",
       "\n",
       "    .dataframe tbody tr th {\n",
       "        vertical-align: top;\n",
       "    }\n",
       "\n",
       "    .dataframe thead th {\n",
       "        text-align: right;\n",
       "    }\n",
       "</style>\n",
       "<table border=\"1\" class=\"dataframe\">\n",
       "  <thead>\n",
       "    <tr style=\"text-align: right;\">\n",
       "      <th></th>\n",
       "      <th>N</th>\n",
       "      <th>P</th>\n",
       "      <th>K</th>\n",
       "      <th>ph</th>\n",
       "    </tr>\n",
       "  </thead>\n",
       "  <tbody>\n",
       "    <tr>\n",
       "      <th>0</th>\n",
       "      <td>90</td>\n",
       "      <td>42</td>\n",
       "      <td>43</td>\n",
       "      <td>6.502985</td>\n",
       "    </tr>\n",
       "    <tr>\n",
       "      <th>1</th>\n",
       "      <td>85</td>\n",
       "      <td>58</td>\n",
       "      <td>41</td>\n",
       "      <td>7.038096</td>\n",
       "    </tr>\n",
       "    <tr>\n",
       "      <th>2</th>\n",
       "      <td>60</td>\n",
       "      <td>55</td>\n",
       "      <td>44</td>\n",
       "      <td>7.840207</td>\n",
       "    </tr>\n",
       "    <tr>\n",
       "      <th>3</th>\n",
       "      <td>74</td>\n",
       "      <td>35</td>\n",
       "      <td>40</td>\n",
       "      <td>6.980401</td>\n",
       "    </tr>\n",
       "    <tr>\n",
       "      <th>4</th>\n",
       "      <td>78</td>\n",
       "      <td>42</td>\n",
       "      <td>42</td>\n",
       "      <td>7.628473</td>\n",
       "    </tr>\n",
       "  </tbody>\n",
       "</table>\n",
       "</div>"
      ],
      "text/plain": [
       "    N   P   K        ph\n",
       "0  90  42  43  6.502985\n",
       "1  85  58  41  7.038096\n",
       "2  60  55  44  7.840207\n",
       "3  74  35  40  6.980401\n",
       "4  78  42  42  7.628473"
      ]
     },
     "execution_count": 27,
     "metadata": {},
     "output_type": "execute_result"
    }
   ],
   "source": [
    "X.head()"
   ]
  },
  {
   "cell_type": "code",
   "execution_count": 28,
   "id": "db1c6556-83d7-4ca1-8e5b-38d6b6f4d537",
   "metadata": {},
   "outputs": [
    {
     "data": {
      "text/plain": [
       "['rice', 'rice', 'rice']\n",
       "Categories (22, object): ['apple', 'banana', 'blackgram', 'chickpea', ..., 'pigeonpeas', 'pomegranate', 'rice', 'watermelon']"
      ]
     },
     "execution_count": 28,
     "metadata": {},
     "output_type": "execute_result"
    }
   ],
   "source": [
    "y[:3]"
   ]
  },
  {
   "cell_type": "markdown",
   "id": "7ff0b382-8fcc-456f-ac19-004cd0d9b724",
   "metadata": {},
   "source": [
    "### Setting Up Cross-Validation\n",
    "\n",
    "A 5-fold cross-validation strategy will be used to evaluate model performance. The data will be shuffled before splitting to ensure each fold is representative of the overall dataset. A fixed random seed is set for reproducibility.\n"
   ]
  },
  {
   "cell_type": "code",
   "execution_count": 29,
   "id": "65720c5a-1597-4b15-888c-f770a44eb231",
   "metadata": {},
   "outputs": [],
   "source": [
    "kf = KFold(n_splits = 5,\n",
    "           shuffle = True,\n",
    "           random_state = 7)"
   ]
  },
  {
   "cell_type": "code",
   "execution_count": 36,
   "id": "f7d40fdb-cdd6-4216-967b-6cd642acf8d9",
   "metadata": {},
   "outputs": [],
   "source": [
    "X_train, X_test, y_train, y_test = train_test_split(X, y, \n",
    "                                                    test_size=0.2, \n",
    "                                                    random_state=7)"
   ]
  },
  {
   "cell_type": "code",
   "execution_count": 31,
   "id": "eeb8e39b-5045-485d-b781-9bef47b3d450",
   "metadata": {},
   "outputs": [],
   "source": [
    "logreg = LogisticRegression()\n"
   ]
  },
  {
   "cell_type": "code",
   "execution_count": 40,
   "id": "6c30dec6-038f-4f81-bf0e-b81603b77d99",
   "metadata": {},
   "outputs": [
    {
     "name": "stderr",
     "output_type": "stream",
     "text": [
      "C:\\Users\\josue\\miniconda3\\envs\\data_env\\Lib\\site-packages\\sklearn\\linear_model\\_logistic.py:465: ConvergenceWarning: lbfgs failed to converge (status=1):\n",
      "STOP: TOTAL NO. OF ITERATIONS REACHED LIMIT.\n",
      "\n",
      "Increase the number of iterations (max_iter) or scale the data as shown in:\n",
      "    https://scikit-learn.org/stable/modules/preprocessing.html\n",
      "Please also refer to the documentation for alternative solver options:\n",
      "    https://scikit-learn.org/stable/modules/linear_model.html#logistic-regression\n",
      "  n_iter_i = _check_optimize_result(\n"
     ]
    },
    {
     "ename": "TypeError",
     "evalue": "too many positional arguments",
     "output_type": "error",
     "traceback": [
      "\u001b[31m---------------------------------------------------------------------------\u001b[39m",
      "\u001b[31mTypeError\u001b[39m                                 Traceback (most recent call last)",
      "\u001b[36mCell\u001b[39m\u001b[36m \u001b[39m\u001b[32mIn[40]\u001b[39m\u001b[32m, line 11\u001b[39m\n\u001b[32m      9\u001b[39m logreg.fit(X_train[[feature]].values,y_train)\n\u001b[32m     10\u001b[39m y_pred = logreg.predict(X_test[[feature]].values)\n\u001b[32m---> \u001b[39m\u001b[32m11\u001b[39m score = \u001b[43mmetrics\u001b[49m\u001b[43m.\u001b[49m\u001b[43mf1_score\u001b[49m\u001b[43m(\u001b[49m\u001b[43my_test\u001b[49m\u001b[43m,\u001b[49m\u001b[43m \u001b[49m\u001b[43my_pred\u001b[49m\u001b[43m,\u001b[49m\u001b[33;43m'\u001b[39;49m\u001b[33;43mweighted\u001b[39;49m\u001b[33;43m'\u001b[39;49m\u001b[43m)\u001b[49m\n\u001b[32m     12\u001b[39m \u001b[38;5;28mprint\u001b[39m(logreg.confussion_matrix(y_test, y_pred))\n\u001b[32m     13\u001b[39m feature_scores[feature] = score\n",
      "\u001b[36mFile \u001b[39m\u001b[32m~\\miniconda3\\envs\\data_env\\Lib\\site-packages\\sklearn\\utils\\_param_validation.py:194\u001b[39m, in \u001b[36mvalidate_params.<locals>.decorator.<locals>.wrapper\u001b[39m\u001b[34m(*args, **kwargs)\u001b[39m\n\u001b[32m    191\u001b[39m func_sig = signature(func)\n\u001b[32m    193\u001b[39m \u001b[38;5;66;03m# Map *args/**kwargs to the function signature\u001b[39;00m\n\u001b[32m--> \u001b[39m\u001b[32m194\u001b[39m params = \u001b[43mfunc_sig\u001b[49m\u001b[43m.\u001b[49m\u001b[43mbind\u001b[49m\u001b[43m(\u001b[49m\u001b[43m*\u001b[49m\u001b[43margs\u001b[49m\u001b[43m,\u001b[49m\u001b[43m \u001b[49m\u001b[43m*\u001b[49m\u001b[43m*\u001b[49m\u001b[43mkwargs\u001b[49m\u001b[43m)\u001b[49m\n\u001b[32m    195\u001b[39m params.apply_defaults()\n\u001b[32m    197\u001b[39m \u001b[38;5;66;03m# ignore self/cls and positional/keyword markers\u001b[39;00m\n",
      "\u001b[36mFile \u001b[39m\u001b[32m~\\miniconda3\\envs\\data_env\\Lib\\inspect.py:3277\u001b[39m, in \u001b[36mSignature.bind\u001b[39m\u001b[34m(self, *args, **kwargs)\u001b[39m\n\u001b[32m   3272\u001b[39m \u001b[38;5;28;01mdef\u001b[39;00m\u001b[38;5;250m \u001b[39m\u001b[34mbind\u001b[39m(\u001b[38;5;28mself\u001b[39m, /, *args, **kwargs):\n\u001b[32m   3273\u001b[39m \u001b[38;5;250m    \u001b[39m\u001b[33;03m\"\"\"Get a BoundArguments object, that maps the passed `args`\u001b[39;00m\n\u001b[32m   3274\u001b[39m \u001b[33;03m    and `kwargs` to the function's signature.  Raises `TypeError`\u001b[39;00m\n\u001b[32m   3275\u001b[39m \u001b[33;03m    if the passed arguments can not be bound.\u001b[39;00m\n\u001b[32m   3276\u001b[39m \u001b[33;03m    \"\"\"\u001b[39;00m\n\u001b[32m-> \u001b[39m\u001b[32m3277\u001b[39m     \u001b[38;5;28;01mreturn\u001b[39;00m \u001b[38;5;28;43mself\u001b[39;49m\u001b[43m.\u001b[49m\u001b[43m_bind\u001b[49m\u001b[43m(\u001b[49m\u001b[43margs\u001b[49m\u001b[43m,\u001b[49m\u001b[43m \u001b[49m\u001b[43mkwargs\u001b[49m\u001b[43m)\u001b[49m\n",
      "\u001b[36mFile \u001b[39m\u001b[32m~\\miniconda3\\envs\\data_env\\Lib\\inspect.py:3201\u001b[39m, in \u001b[36mSignature._bind\u001b[39m\u001b[34m(self, args, kwargs, partial)\u001b[39m\n\u001b[32m   3197\u001b[39m \u001b[38;5;28;01melse\u001b[39;00m:\n\u001b[32m   3198\u001b[39m     \u001b[38;5;28;01mif\u001b[39;00m param.kind \u001b[38;5;129;01min\u001b[39;00m (_VAR_KEYWORD, _KEYWORD_ONLY):\n\u001b[32m   3199\u001b[39m         \u001b[38;5;66;03m# Looks like we have no parameter for this positional\u001b[39;00m\n\u001b[32m   3200\u001b[39m         \u001b[38;5;66;03m# argument\u001b[39;00m\n\u001b[32m-> \u001b[39m\u001b[32m3201\u001b[39m         \u001b[38;5;28;01mraise\u001b[39;00m \u001b[38;5;167;01mTypeError\u001b[39;00m(\n\u001b[32m   3202\u001b[39m             \u001b[33m'\u001b[39m\u001b[33mtoo many positional arguments\u001b[39m\u001b[33m'\u001b[39m) \u001b[38;5;28;01mfrom\u001b[39;00m\u001b[38;5;250m \u001b[39m\u001b[38;5;28;01mNone\u001b[39;00m\n\u001b[32m   3204\u001b[39m     \u001b[38;5;28;01mif\u001b[39;00m param.kind == _VAR_POSITIONAL:\n\u001b[32m   3205\u001b[39m         \u001b[38;5;66;03m# We have an '*args'-like argument, let's fill it with\u001b[39;00m\n\u001b[32m   3206\u001b[39m         \u001b[38;5;66;03m# all positional arguments we have left and move on to\u001b[39;00m\n\u001b[32m   3207\u001b[39m         \u001b[38;5;66;03m# the next phase\u001b[39;00m\n\u001b[32m   3208\u001b[39m         values = [arg_val]\n",
      "\u001b[31mTypeError\u001b[39m: too many positional arguments"
     ]
    }
   ],
   "source": [
    "features = [\"N\", \"P\", \"K\", \"ph\"]\n",
    "\n",
    "# Store mean accuracy for each feature\n",
    "feature_scores = {}\n",
    "\n",
    "# Train logistic regression on each individual feature\n",
    "for feature in X.columns:\n",
    "    logreg = LogisticRegression(max_iter=1000)\n",
    "    logreg.fit(X_train[[feature]].values,y_train)\n",
    "    y_pred = logreg.predict(X_test[[feature]].values)\n",
    "    score = metrics.f1_score(y_test, y_pred,'weighted')\n",
    "    print(logreg.confussion_matrix(y_test, y_pred))\n",
    "    feature_scores[feature] = score\n",
    "\n",
    "# Display the scores\n",
    "for feature, score in feature_scores.items():\n",
    "    print(f\"{feature}: {score:.4f}\")\n",
    "    "
   ]
  },
  {
   "cell_type": "code",
   "execution_count": null,
   "id": "6d603ab0-b0bd-4031-b99e-02bb76e3de81",
   "metadata": {},
   "outputs": [],
   "source": []
  }
 ],
 "metadata": {
  "colab": {
   "name": "Welcome to DataCamp Workspaces.ipynb",
   "provenance": []
  },
  "kernelspec": {
   "display_name": "Python 3 (ipykernel)",
   "language": "python",
   "name": "python3"
  },
  "language_info": {
   "codemirror_mode": {
    "name": "ipython",
    "version": 3
   },
   "file_extension": ".py",
   "mimetype": "text/x-python",
   "name": "python",
   "nbconvert_exporter": "python",
   "pygments_lexer": "ipython3",
   "version": "3.12.9"
  }
 },
 "nbformat": 4,
 "nbformat_minor": 5
}
